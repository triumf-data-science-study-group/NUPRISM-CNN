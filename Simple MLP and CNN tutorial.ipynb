{
 "cells": [
  {
   "cell_type": "markdown",
   "metadata": {},
   "source": [
    "# Data Science Study Group Project: Neutrino type and background classification\n",
    "# Building your first fully connected network and a CNN "
   ]
  },
  {
   "cell_type": "markdown",
   "metadata": {},
   "source": [
    "As last time launch a job - but now use `jupyter_job_GPU.sh` - this will request a GPU"
   ]
  },
  {
   "cell_type": "markdown",
   "metadata": {},
   "source": [
    "Also before the meeting please copy the dataset to the local SLURM temporary fast storage"
   ]
  },
  {
   "cell_type": "markdown",
   "metadata": {},
   "source": [
    "Ok let's make a dataset:"
   ]
  },
  {
   "cell_type": "code",
   "execution_count": 1,
   "metadata": {},
   "outputs": [],
   "source": [
    "from io_utils.data_handling import WCH5Dataset\n",
    "dset=WCH5Dataset(\"/fast_scratch/WatChMaL/data/IWCDmPMT/varyE/IWCDmPMT_varyE_100-1000MeV_300k_fmt.h5\",val_split=0.1,test_split=0.1)"
   ]
  },
  {
   "cell_type": "markdown",
   "metadata": {},
   "source": [
    "Let's first create a configuration object -we'll use this to set up our training engine"
   ]
  },
  {
   "cell_type": "code",
   "execution_count": 2,
   "metadata": {},
   "outputs": [],
   "source": [
    "#path = /fast_scratch/WatChMaL/data/IWCDmPMT/varyE/IWCDmPMT_varyE_100-1000MeV_300k_fmt.h5"
   ]
  },
  {
   "cell_type": "code",
   "execution_count": 3,
   "metadata": {},
   "outputs": [],
   "source": [
    "class CONFIG:\n",
    "    pass\n",
    "config=CONFIG()\n",
    "config.batch_size_test = 1024\n",
    "config.batch_size_train = 32\n",
    "config.batch_size_val = 1024\n",
    "config.lr=0.001\n",
    "config.device = 'gpu'\n",
    "config.gpu_list = [0]\n",
    "config.dump_path = 'model_state_dumps'\n"
   ]
  },
  {
   "cell_type": "markdown",
   "metadata": {},
   "source": [
    "Now Let's make our model. We'll talk about \n",
    "  - model parameters\n",
    "  - inputs and the forward method\n",
    "  - Modules containing modules\n",
    "  - Sequential Module\n",
    "  Lets open [simpleMLP](../edit/models/simpleMLP.py)"
   ]
  },
  {
   "cell_type": "code",
   "execution_count": 4,
   "metadata": {},
   "outputs": [],
   "source": [
    "from models.simpleMLP import SimpleMLP"
   ]
  },
  {
   "cell_type": "code",
   "execution_count": 5,
   "metadata": {},
   "outputs": [],
   "source": [
    "model_MLP=SimpleMLP(num_classes=3)"
   ]
  },
  {
   "cell_type": "markdown",
   "metadata": {},
   "source": [
    "Let's look at the parameters:"
   ]
  },
  {
   "cell_type": "code",
   "execution_count": 6,
   "metadata": {},
   "outputs": [
    {
     "name": "stdout",
     "output_type": "stream",
     "text": [
      "<bound method Module.parameters of SimpleMLP(\n",
      "  (relu): ReLU()\n",
      "  (softmax): Softmax()\n",
      "  (fc1): Linear(in_features=24320, out_features=9728, bias=True)\n",
      "  (fc2): Linear(in_features=9728, out_features=4864, bias=True)\n",
      "  (fc3): Linear(in_features=4864, out_features=1600, bias=True)\n",
      "  (fc4): Linear(in_features=1600, out_features=400, bias=True)\n",
      "  (fc5): Linear(in_features=400, out_features=3, bias=True)\n",
      ")>\n"
     ]
    }
   ],
   "source": [
    "print(model_MLP.parameters)"
   ]
  },
  {
   "cell_type": "markdown",
   "metadata": {},
   "source": [
    "Now let's look at sequential version"
   ]
  },
  {
   "cell_type": "code",
   "execution_count": 7,
   "metadata": {},
   "outputs": [],
   "source": [
    "from models.simpleMLP import SimpleMLPSEQ\n",
    "model_MLPSEQ=SimpleMLPSEQ(num_classes=3)"
   ]
  },
  {
   "cell_type": "code",
   "execution_count": 8,
   "metadata": {},
   "outputs": [
    {
     "name": "stdout",
     "output_type": "stream",
     "text": [
      "<bound method Module.parameters of SimpleMLPSEQ(\n",
      "  (_sequence): Sequential(\n",
      "    (0): Linear(in_features=24320, out_features=9728, bias=True)\n",
      "    (1): ReLU()\n",
      "    (2): Linear(in_features=9728, out_features=4864, bias=True)\n",
      "    (3): ReLU()\n",
      "    (4): Linear(in_features=4864, out_features=1600, bias=True)\n",
      "    (5): ReLU()\n",
      "    (6): Linear(in_features=1600, out_features=400, bias=True)\n",
      "    (7): ReLU()\n",
      "    (8): Linear(in_features=400, out_features=3, bias=True)\n",
      "  )\n",
      ")>\n"
     ]
    }
   ],
   "source": [
    "print(model_MLPSEQ.parameters)"
   ]
  },
  {
   "cell_type": "code",
   "execution_count": 9,
   "metadata": {},
   "outputs": [],
   "source": [
    "import numpy as np\n",
    "transform=np.ravel\n",
    "dset=WCH5Dataset(\"/fast_scratch/WatChMaL/data/IWCDmPMT/varyE/IWCDmPMT_varyE_100-1000MeV_300k_fmt.h5\",val_split=0.1,test_split=0.1,transform=transform)"
   ]
  },
  {
   "cell_type": "code",
   "execution_count": 10,
   "metadata": {},
   "outputs": [],
   "source": [
    "from training_utils.engine import Engine"
   ]
  },
  {
   "cell_type": "code",
   "execution_count": 11,
   "metadata": {},
   "outputs": [
    {
     "name": "stdout",
     "output_type": "stream",
     "text": [
      "Requesting GPUs. GPU list : [0]\n",
      "Main GPU: cuda:0\n",
      "CUDA is available\n",
      "Creating a directory for run dump: model_state_dumps/20190619_194628/\n"
     ]
    }
   ],
   "source": [
    "engine=Engine(model_MLP,dset,config)"
   ]
  },
  {
   "cell_type": "code",
   "execution_count": 12,
   "metadata": {},
   "outputs": [
    {
     "name": "stdout",
     "output_type": "stream",
     "text": [
      "{'batch_size_test': 1024, 'batch_size_train': 32, 'batch_size_val': 1024, 'lr': 0.001, 'device': 'gpu', 'gpu_list': [0], 'dump_path': 'model_state_dumps'}\n"
     ]
    }
   ],
   "source": [
    "print(vars(config))"
   ]
  },
  {
   "cell_type": "code",
   "execution_count": 32,
   "metadata": {},
   "outputs": [
    {
     "name": "stdout",
     "output_type": "stream",
     "text": [
      "Epoch 0 Starting @ 2019-06-19 19:42:43\n",
      "... Iteration 1 ... Epoch 0.00 ... Loss 2.577 ... Accuracy 0.344\n",
      "... Iteration 10 ... Epoch 0.00 ... Loss 1.821 ... Accuracy 0.250\n",
      "... Iteration 20 ... Epoch 0.00 ... Loss 1.130 ... Accuracy 0.250\n",
      "... Iteration 30 ... Epoch 0.00 ... Loss 0.998 ... Accuracy 0.531\n",
      "... Iteration 40 ... Epoch 0.00 ... Loss 0.946 ... Accuracy 0.469\n",
      "... Iteration 50 ... Epoch 0.00 ... Loss 1.049 ... Accuracy 0.344\n",
      "... Iteration 60 ... Epoch 0.00 ... Loss 0.917 ... Accuracy 0.656\n",
      "... Iteration 70 ... Epoch 0.00 ... Loss 0.934 ... Accuracy 0.469\n",
      "... Iteration 80 ... Epoch 0.00 ... Loss 0.974 ... Accuracy 0.531\n",
      "... Iteration 90 ... Epoch 0.00 ... Loss 0.867 ... Accuracy 0.625\n",
      "... Iteration 100 ... Epoch 0.00 ... Loss 0.836 ... Accuracy 0.500\n",
      "Saved checkpoint as: model_state_dumps/20190619_194243/SimpleMLP.pth\n",
      "best validation loss so far!: 0.8397846817970276\n",
      "Saved checkpoint as: model_state_dumps/20190619_194243/SimpleMLPBEST.pth\n",
      "... Iteration 110 ... Epoch 0.00 ... Loss 0.867 ... Accuracy 0.562\n",
      "... Iteration 120 ... Epoch 0.01 ... Loss 0.838 ... Accuracy 0.562\n",
      "... Iteration 130 ... Epoch 0.01 ... Loss 0.799 ... Accuracy 0.531\n",
      "... Iteration 140 ... Epoch 0.01 ... Loss 0.637 ... Accuracy 0.719\n",
      "... Iteration 150 ... Epoch 0.01 ... Loss 0.623 ... Accuracy 0.750\n",
      "... Iteration 160 ... Epoch 0.01 ... Loss 0.657 ... Accuracy 0.719\n",
      "... Iteration 170 ... Epoch 0.01 ... Loss 0.574 ... Accuracy 0.688\n",
      "... Iteration 180 ... Epoch 0.01 ... Loss 0.880 ... Accuracy 0.500\n",
      "... Iteration 190 ... Epoch 0.01 ... Loss 0.696 ... Accuracy 0.625\n",
      "... Iteration 200 ... Epoch 0.01 ... Loss 0.606 ... Accuracy 0.688\n"
     ]
    },
    {
     "ename": "KeyboardInterrupt",
     "evalue": "",
     "output_type": "error",
     "traceback": [
      "\u001b[0;31m---------------------------------------------------------------------------\u001b[0m",
      "\u001b[0;31mKeyboardInterrupt\u001b[0m                         Traceback (most recent call last)",
      "\u001b[0;32m<ipython-input-32-bb02f5c925c1>\u001b[0m in \u001b[0;36m<module>\u001b[0;34m\u001b[0m\n\u001b[0;32m----> 1\u001b[0;31m \u001b[0mengine\u001b[0m\u001b[0;34m.\u001b[0m\u001b[0mtrain\u001b[0m\u001b[0;34m(\u001b[0m\u001b[0mepochs\u001b[0m\u001b[0;34m=\u001b[0m\u001b[0;36m2.5\u001b[0m\u001b[0;34m,\u001b[0m\u001b[0mreport_interval\u001b[0m\u001b[0;34m=\u001b[0m\u001b[0;36m10\u001b[0m\u001b[0;34m,\u001b[0m\u001b[0mvalid_interval\u001b[0m\u001b[0;34m=\u001b[0m\u001b[0;36m100\u001b[0m\u001b[0;34m)\u001b[0m\u001b[0;34m\u001b[0m\u001b[0;34m\u001b[0m\u001b[0m\n\u001b[0m",
      "\u001b[0;32m~/NUPRISM-CNN/training_utils/engine.py\u001b[0m in \u001b[0;36mtrain\u001b[0;34m(self, epochs, report_interval, valid_interval)\u001b[0m\n\u001b[1;32m    211\u001b[0m                     \u001b[0mself\u001b[0m\u001b[0;34m.\u001b[0m\u001b[0mmodel\u001b[0m\u001b[0;34m.\u001b[0m\u001b[0mtrain\u001b[0m\u001b[0;34m(\u001b[0m\u001b[0;34m)\u001b[0m\u001b[0;34m\u001b[0m\u001b[0;34m\u001b[0m\u001b[0m\n\u001b[1;32m    212\u001b[0m \u001b[0;34m\u001b[0m\u001b[0m\n\u001b[0;32m--> 213\u001b[0;31m                     \u001b[0mself\u001b[0m\u001b[0;34m.\u001b[0m\u001b[0msave_state\u001b[0m\u001b[0;34m(\u001b[0m\u001b[0;34m)\u001b[0m\u001b[0;34m\u001b[0m\u001b[0;34m\u001b[0m\u001b[0m\n\u001b[0m\u001b[1;32m    214\u001b[0m                     \u001b[0;32mif\u001b[0m \u001b[0mres\u001b[0m\u001b[0;34m[\u001b[0m\u001b[0;34m'loss'\u001b[0m\u001b[0;34m]\u001b[0m\u001b[0;34m<\u001b[0m\u001b[0mbest_val_loss\u001b[0m\u001b[0;34m:\u001b[0m\u001b[0;34m\u001b[0m\u001b[0;34m\u001b[0m\u001b[0m\n\u001b[1;32m    215\u001b[0m                         \u001b[0mbest_val_loss\u001b[0m\u001b[0;34m=\u001b[0m\u001b[0mres\u001b[0m\u001b[0;34m[\u001b[0m\u001b[0;34m'loss'\u001b[0m\u001b[0;34m]\u001b[0m\u001b[0;34m\u001b[0m\u001b[0;34m\u001b[0m\u001b[0m\n",
      "\u001b[0;32m~/NUPRISM-CNN/training_utils/engine.py\u001b[0m in \u001b[0;36msave_state\u001b[0;34m(self, best)\u001b[0m\n\u001b[1;32m    317\u001b[0m             \u001b[0;34m'optimizer'\u001b[0m\u001b[0;34m:\u001b[0m \u001b[0mself\u001b[0m\u001b[0;34m.\u001b[0m\u001b[0moptimizer\u001b[0m\u001b[0;34m.\u001b[0m\u001b[0mstate_dict\u001b[0m\u001b[0;34m(\u001b[0m\u001b[0;34m)\u001b[0m\u001b[0;34m,\u001b[0m\u001b[0;34m\u001b[0m\u001b[0;34m\u001b[0m\u001b[0m\n\u001b[1;32m    318\u001b[0m             \u001b[0;34m'state_dict'\u001b[0m\u001b[0;34m:\u001b[0m \u001b[0mself\u001b[0m\u001b[0;34m.\u001b[0m\u001b[0mmodel\u001b[0m\u001b[0;34m.\u001b[0m\u001b[0mstate_dict\u001b[0m\u001b[0;34m(\u001b[0m\u001b[0;34m)\u001b[0m\u001b[0;34m\u001b[0m\u001b[0;34m\u001b[0m\u001b[0m\n\u001b[0;32m--> 319\u001b[0;31m         }, filename)\n\u001b[0m\u001b[1;32m    320\u001b[0m         \u001b[0mprint\u001b[0m\u001b[0;34m(\u001b[0m\u001b[0;34m'Saved checkpoint as:'\u001b[0m\u001b[0;34m,\u001b[0m \u001b[0mfilename\u001b[0m\u001b[0;34m)\u001b[0m\u001b[0;34m\u001b[0m\u001b[0;34m\u001b[0m\u001b[0m\n\u001b[1;32m    321\u001b[0m         \u001b[0;32mreturn\u001b[0m \u001b[0mfilename\u001b[0m\u001b[0;34m\u001b[0m\u001b[0;34m\u001b[0m\u001b[0m\n",
      "\u001b[0;32m/opt/conda/lib/python3.6/site-packages/torch/serialization.py\u001b[0m in \u001b[0;36msave\u001b[0;34m(obj, f, pickle_module, pickle_protocol)\u001b[0m\n\u001b[1;32m    222\u001b[0m         \u001b[0;34m>>\u001b[0m\u001b[0;34m>\u001b[0m \u001b[0mtorch\u001b[0m\u001b[0;34m.\u001b[0m\u001b[0msave\u001b[0m\u001b[0;34m(\u001b[0m\u001b[0mx\u001b[0m\u001b[0;34m,\u001b[0m \u001b[0mbuffer\u001b[0m\u001b[0;34m)\u001b[0m\u001b[0;34m\u001b[0m\u001b[0;34m\u001b[0m\u001b[0m\n\u001b[1;32m    223\u001b[0m     \"\"\"\n\u001b[0;32m--> 224\u001b[0;31m     \u001b[0;32mreturn\u001b[0m \u001b[0m_with_file_like\u001b[0m\u001b[0;34m(\u001b[0m\u001b[0mf\u001b[0m\u001b[0;34m,\u001b[0m \u001b[0;34m\"wb\"\u001b[0m\u001b[0;34m,\u001b[0m \u001b[0;32mlambda\u001b[0m \u001b[0mf\u001b[0m\u001b[0;34m:\u001b[0m \u001b[0m_save\u001b[0m\u001b[0;34m(\u001b[0m\u001b[0mobj\u001b[0m\u001b[0;34m,\u001b[0m \u001b[0mf\u001b[0m\u001b[0;34m,\u001b[0m \u001b[0mpickle_module\u001b[0m\u001b[0;34m,\u001b[0m \u001b[0mpickle_protocol\u001b[0m\u001b[0;34m)\u001b[0m\u001b[0;34m)\u001b[0m\u001b[0;34m\u001b[0m\u001b[0;34m\u001b[0m\u001b[0m\n\u001b[0m\u001b[1;32m    225\u001b[0m \u001b[0;34m\u001b[0m\u001b[0m\n\u001b[1;32m    226\u001b[0m \u001b[0;34m\u001b[0m\u001b[0m\n",
      "\u001b[0;32m/opt/conda/lib/python3.6/site-packages/torch/serialization.py\u001b[0m in \u001b[0;36m_with_file_like\u001b[0;34m(f, mode, body)\u001b[0m\n\u001b[1;32m    145\u001b[0m             \u001b[0;34m(\u001b[0m\u001b[0msys\u001b[0m\u001b[0;34m.\u001b[0m\u001b[0mversion_info\u001b[0m\u001b[0;34m[\u001b[0m\u001b[0;36m0\u001b[0m\u001b[0;34m]\u001b[0m \u001b[0;34m==\u001b[0m \u001b[0;36m3\u001b[0m \u001b[0;32mand\u001b[0m \u001b[0misinstance\u001b[0m\u001b[0;34m(\u001b[0m\u001b[0mf\u001b[0m\u001b[0;34m,\u001b[0m \u001b[0mpathlib\u001b[0m\u001b[0;34m.\u001b[0m\u001b[0mPath\u001b[0m\u001b[0;34m)\u001b[0m\u001b[0;34m)\u001b[0m\u001b[0;34m:\u001b[0m\u001b[0;34m\u001b[0m\u001b[0;34m\u001b[0m\u001b[0m\n\u001b[1;32m    146\u001b[0m         \u001b[0mnew_fd\u001b[0m \u001b[0;34m=\u001b[0m \u001b[0;32mTrue\u001b[0m\u001b[0;34m\u001b[0m\u001b[0;34m\u001b[0m\u001b[0m\n\u001b[0;32m--> 147\u001b[0;31m         \u001b[0mf\u001b[0m \u001b[0;34m=\u001b[0m \u001b[0mopen\u001b[0m\u001b[0;34m(\u001b[0m\u001b[0mf\u001b[0m\u001b[0;34m,\u001b[0m \u001b[0mmode\u001b[0m\u001b[0;34m)\u001b[0m\u001b[0;34m\u001b[0m\u001b[0;34m\u001b[0m\u001b[0m\n\u001b[0m\u001b[1;32m    148\u001b[0m     \u001b[0;32mtry\u001b[0m\u001b[0;34m:\u001b[0m\u001b[0;34m\u001b[0m\u001b[0;34m\u001b[0m\u001b[0m\n\u001b[1;32m    149\u001b[0m         \u001b[0;32mreturn\u001b[0m \u001b[0mbody\u001b[0m\u001b[0;34m(\u001b[0m\u001b[0mf\u001b[0m\u001b[0;34m)\u001b[0m\u001b[0;34m\u001b[0m\u001b[0;34m\u001b[0m\u001b[0m\n",
      "\u001b[0;31mKeyboardInterrupt\u001b[0m: "
     ]
    }
   ],
   "source": [
    "engine.train(epochs=2.5,report_interval=10,valid_interval=100)"
   ]
  },
  {
   "cell_type": "code",
   "execution_count": 13,
   "metadata": {},
   "outputs": [
    {
     "data": {
      "text/plain": [
       "'SimpleMLP'"
      ]
     },
     "execution_count": 13,
     "metadata": {},
     "output_type": "execute_result"
    }
   ],
   "source": [
    "model_MLP._get_name()"
   ]
  },
  {
   "cell_type": "code",
   "execution_count": 14,
   "metadata": {},
   "outputs": [],
   "source": [
    "from models.simpleCNN import SimpleCNN\n",
    "model_CNN=SimpleCNN(num_input_channels=38,num_classes=3)"
   ]
  },
  {
   "cell_type": "code",
   "execution_count": 15,
   "metadata": {},
   "outputs": [],
   "source": [
    "def rotate_chan(x):\n",
    "    return np.transpose(x,(2,0,1))"
   ]
  },
  {
   "cell_type": "code",
   "execution_count": 16,
   "metadata": {},
   "outputs": [],
   "source": [
    "dset=WCH5Dataset(\"/fast_scratch/WatChMaL/data/IWCDmPMT/varyE/IWCDmPMT_varyE_100-1000MeV_300k_fmt.h5\",val_split=0.1,test_split=0.1,transform=rotate_chan)"
   ]
  },
  {
   "cell_type": "code",
   "execution_count": 17,
   "metadata": {},
   "outputs": [
    {
     "name": "stdout",
     "output_type": "stream",
     "text": [
      "Requesting GPUs. GPU list : [0]\n",
      "Main GPU: cuda:0\n",
      "CUDA is available\n",
      "Creating a directory for run dump: model_state_dumps/20190619_194634/\n"
     ]
    }
   ],
   "source": [
    "engine=Engine(model_CNN,dset,config)"
   ]
  },
  {
   "cell_type": "code",
   "execution_count": 18,
   "metadata": {},
   "outputs": [
    {
     "data": {
      "text/plain": [
       "<bound method Module.parameters of SimpleCNN(\n",
       "  (relu): ReLU()\n",
       "  (softmax): Softmax()\n",
       "  (f_embed): Conv2d(38, 64, kernel_size=(1, 1), stride=(1, 1))\n",
       "  (f_conv1): Conv2d(64, 64, kernel_size=(3, 3), stride=(1, 1), padding=(1, 1))\n",
       "  (f_max_pool1): MaxPool2d(kernel_size=2, stride=2, padding=0, dilation=1, ceil_mode=False)\n",
       "  (f_conv2a): Conv2d(64, 64, kernel_size=(3, 3), stride=(1, 1), padding=(1, 1))\n",
       "  (f_conv2b): Conv2d(64, 64, kernel_size=(3, 3), stride=(1, 1), padding=(1, 1))\n",
       "  (f_max_pool2): MaxPool2d(kernel_size=2, stride=2, padding=0, dilation=1, ceil_mode=False)\n",
       "  (f_conv3a): Conv2d(64, 128, kernel_size=(3, 3), stride=(1, 1), padding=(1, 1))\n",
       "  (f_conv3b): Conv2d(128, 128, kernel_size=(3, 3), stride=(1, 1), padding=(1, 1))\n",
       "  (f_max_pool3): MaxPool2d(kernel_size=2, stride=2, padding=0, dilation=1, ceil_mode=False)\n",
       "  (f_conv4): Conv2d(128, 128, kernel_size=(2, 2), stride=(1, 1))\n",
       "  (fc1): Linear(in_features=128, out_features=128, bias=True)\n",
       "  (fc2): Linear(in_features=128, out_features=128, bias=True)\n",
       "  (fc3): Linear(in_features=128, out_features=3, bias=True)\n",
       ")>"
      ]
     },
     "execution_count": 18,
     "metadata": {},
     "output_type": "execute_result"
    }
   ],
   "source": [
    "model_CNN.parameters"
   ]
  },
  {
   "cell_type": "code",
   "execution_count": null,
   "metadata": {},
   "outputs": [
    {
     "name": "stdout",
     "output_type": "stream",
     "text": [
      "Epoch 0 Starting @ 2019-06-19 19:46:39\n",
      "... Iteration 1 ... Epoch 0.00 ... Loss 1.097 ... Accuracy 0.375\n",
      "... Iteration 10 ... Epoch 0.00 ... Loss 1.088 ... Accuracy 0.531\n",
      "... Iteration 20 ... Epoch 0.00 ... Loss 1.076 ... Accuracy 0.469\n",
      "... Iteration 30 ... Epoch 0.00 ... Loss 1.088 ... Accuracy 0.406\n",
      "... Iteration 40 ... Epoch 0.00 ... Loss 1.088 ... Accuracy 0.406\n",
      "... Iteration 50 ... Epoch 0.00 ... Loss 1.071 ... Accuracy 0.406\n",
      "... Iteration 60 ... Epoch 0.00 ... Loss 1.079 ... Accuracy 0.281\n",
      "... Iteration 70 ... Epoch 0.00 ... Loss 1.047 ... Accuracy 0.469\n",
      "... Iteration 80 ... Epoch 0.00 ... Loss 1.088 ... Accuracy 0.375\n",
      "... Iteration 90 ... Epoch 0.00 ... Loss 1.091 ... Accuracy 0.375\n",
      "... Iteration 100 ... Epoch 0.00 ... Loss 1.092 ... Accuracy 0.188\n",
      "Saved checkpoint as: model_state_dumps/20190619_194634/SimpleCNN.pth\n",
      "best validation loss so far!: 1.0666351318359375\n",
      "Saved checkpoint as: model_state_dumps/20190619_194634/SimpleCNNBEST.pth\n",
      "... Iteration 110 ... Epoch 0.00 ... Loss 1.062 ... Accuracy 0.469\n",
      "... Iteration 120 ... Epoch 0.01 ... Loss 1.020 ... Accuracy 0.500\n",
      "... Iteration 130 ... Epoch 0.01 ... Loss 1.050 ... Accuracy 0.344\n",
      "... Iteration 140 ... Epoch 0.01 ... Loss 1.073 ... Accuracy 0.469\n",
      "... Iteration 150 ... Epoch 0.01 ... Loss 1.052 ... Accuracy 0.250\n",
      "... Iteration 160 ... Epoch 0.01 ... Loss 1.085 ... Accuracy 0.438\n",
      "... Iteration 170 ... Epoch 0.01 ... Loss 1.063 ... Accuracy 0.469\n",
      "... Iteration 180 ... Epoch 0.01 ... Loss 1.044 ... Accuracy 0.531\n",
      "... Iteration 190 ... Epoch 0.01 ... Loss 1.085 ... Accuracy 0.500\n",
      "... Iteration 200 ... Epoch 0.01 ... Loss 1.065 ... Accuracy 0.312\n",
      "Saved checkpoint as: model_state_dumps/20190619_194634/SimpleCNN.pth\n",
      "best validation loss so far!: 1.0632575750350952\n",
      "Saved checkpoint as: model_state_dumps/20190619_194634/SimpleCNNBEST.pth\n",
      "... Iteration 210 ... Epoch 0.01 ... Loss 1.041 ... Accuracy 0.594\n",
      "... Iteration 220 ... Epoch 0.01 ... Loss 1.072 ... Accuracy 0.406\n",
      "... Iteration 230 ... Epoch 0.01 ... Loss 1.048 ... Accuracy 0.375\n",
      "... Iteration 240 ... Epoch 0.01 ... Loss 1.063 ... Accuracy 0.375\n",
      "... Iteration 250 ... Epoch 0.01 ... Loss 1.058 ... Accuracy 0.406\n",
      "... Iteration 260 ... Epoch 0.01 ... Loss 1.059 ... Accuracy 0.469\n",
      "... Iteration 270 ... Epoch 0.01 ... Loss 1.091 ... Accuracy 0.375\n",
      "... Iteration 280 ... Epoch 0.01 ... Loss 1.096 ... Accuracy 0.281\n",
      "... Iteration 290 ... Epoch 0.01 ... Loss 1.016 ... Accuracy 0.594\n",
      "... Iteration 300 ... Epoch 0.01 ... Loss 1.045 ... Accuracy 0.406\n",
      "Saved checkpoint as: model_state_dumps/20190619_194634/SimpleCNN.pth\n",
      "best validation loss so far!: 1.0524476766586304\n",
      "Saved checkpoint as: model_state_dumps/20190619_194634/SimpleCNNBEST.pth\n",
      "... Iteration 310 ... Epoch 0.01 ... Loss 1.058 ... Accuracy 0.469\n",
      "... Iteration 320 ... Epoch 0.01 ... Loss 1.047 ... Accuracy 0.438\n",
      "... Iteration 330 ... Epoch 0.01 ... Loss 1.063 ... Accuracy 0.281\n",
      "... Iteration 340 ... Epoch 0.02 ... Loss 1.062 ... Accuracy 0.406\n",
      "... Iteration 350 ... Epoch 0.02 ... Loss 1.024 ... Accuracy 0.656\n",
      "... Iteration 360 ... Epoch 0.02 ... Loss 1.028 ... Accuracy 0.562\n",
      "... Iteration 370 ... Epoch 0.02 ... Loss 1.005 ... Accuracy 0.438\n",
      "... Iteration 380 ... Epoch 0.02 ... Loss 1.061 ... Accuracy 0.344\n",
      "... Iteration 390 ... Epoch 0.02 ... Loss 1.029 ... Accuracy 0.469\n",
      "... Iteration 400 ... Epoch 0.02 ... Loss 1.054 ... Accuracy 0.406\n",
      "Saved checkpoint as: model_state_dumps/20190619_194634/SimpleCNN.pth\n",
      "best validation loss so far!: 1.0233467817306519\n",
      "Saved checkpoint as: model_state_dumps/20190619_194634/SimpleCNNBEST.pth\n",
      "... Iteration 410 ... Epoch 0.02 ... Loss 1.037 ... Accuracy 0.406\n",
      "... Iteration 420 ... Epoch 0.02 ... Loss 0.996 ... Accuracy 0.750\n",
      "... Iteration 430 ... Epoch 0.02 ... Loss 0.966 ... Accuracy 0.688\n",
      "... Iteration 440 ... Epoch 0.02 ... Loss 1.002 ... Accuracy 0.531\n",
      "... Iteration 450 ... Epoch 0.02 ... Loss 1.032 ... Accuracy 0.438\n",
      "... Iteration 460 ... Epoch 0.02 ... Loss 0.996 ... Accuracy 0.469\n",
      "... Iteration 470 ... Epoch 0.02 ... Loss 0.975 ... Accuracy 0.562\n",
      "... Iteration 480 ... Epoch 0.02 ... Loss 0.980 ... Accuracy 0.625\n",
      "... Iteration 490 ... Epoch 0.02 ... Loss 0.997 ... Accuracy 0.531\n",
      "... Iteration 500 ... Epoch 0.02 ... Loss 0.945 ... Accuracy 0.812\n",
      "Saved checkpoint as: model_state_dumps/20190619_194634/SimpleCNN.pth\n",
      "best validation loss so far!: 0.9678910970687866\n",
      "Saved checkpoint as: model_state_dumps/20190619_194634/SimpleCNNBEST.pth\n",
      "... Iteration 510 ... Epoch 0.02 ... Loss 0.964 ... Accuracy 0.438\n",
      "... Iteration 520 ... Epoch 0.02 ... Loss 0.948 ... Accuracy 0.469\n",
      "... Iteration 530 ... Epoch 0.02 ... Loss 0.960 ... Accuracy 0.625\n",
      "... Iteration 540 ... Epoch 0.02 ... Loss 0.950 ... Accuracy 0.469\n",
      "... Iteration 550 ... Epoch 0.02 ... Loss 0.974 ... Accuracy 0.562\n",
      "... Iteration 560 ... Epoch 0.02 ... Loss 0.911 ... Accuracy 0.406\n",
      "... Iteration 570 ... Epoch 0.03 ... Loss 0.917 ... Accuracy 0.625\n",
      "... Iteration 580 ... Epoch 0.03 ... Loss 1.046 ... Accuracy 0.531\n",
      "... Iteration 590 ... Epoch 0.03 ... Loss 0.988 ... Accuracy 0.406\n",
      "... Iteration 600 ... Epoch 0.03 ... Loss 0.885 ... Accuracy 0.438\n",
      "Saved checkpoint as: model_state_dumps/20190619_194634/SimpleCNN.pth\n",
      "best validation loss so far!: 0.8469722867012024\n",
      "Saved checkpoint as: model_state_dumps/20190619_194634/SimpleCNNBEST.pth\n",
      "... Iteration 610 ... Epoch 0.03 ... Loss 0.853 ... Accuracy 0.562\n",
      "... Iteration 620 ... Epoch 0.03 ... Loss 0.820 ... Accuracy 0.594\n",
      "... Iteration 630 ... Epoch 0.03 ... Loss 1.139 ... Accuracy 0.438\n",
      "... Iteration 640 ... Epoch 0.03 ... Loss 0.813 ... Accuracy 0.562\n",
      "... Iteration 650 ... Epoch 0.03 ... Loss 0.747 ... Accuracy 0.688\n",
      "... Iteration 660 ... Epoch 0.03 ... Loss 0.838 ... Accuracy 0.562\n",
      "... Iteration 670 ... Epoch 0.03 ... Loss 0.839 ... Accuracy 0.438\n",
      "... Iteration 680 ... Epoch 0.03 ... Loss 1.150 ... Accuracy 0.344\n",
      "... Iteration 690 ... Epoch 0.03 ... Loss 0.723 ... Accuracy 0.688\n",
      "... Iteration 700 ... Epoch 0.03 ... Loss 0.688 ... Accuracy 0.656\n",
      "Saved checkpoint as: model_state_dumps/20190619_194634/SimpleCNN.pth\n",
      "best validation loss so far!: 0.6973443031311035\n",
      "Saved checkpoint as: model_state_dumps/20190619_194634/SimpleCNNBEST.pth\n",
      "... Iteration 710 ... Epoch 0.03 ... Loss 1.806 ... Accuracy 0.344\n",
      "... Iteration 720 ... Epoch 0.03 ... Loss 0.775 ... Accuracy 0.594\n",
      "... Iteration 730 ... Epoch 0.03 ... Loss 0.593 ... Accuracy 0.844\n"
     ]
    }
   ],
   "source": [
    "engine.train(epochs=5,report_interval=10,valid_interval=100)"
   ]
  },
  {
   "cell_type": "code",
   "execution_count": null,
   "metadata": {},
   "outputs": [],
   "source": []
  }
 ],
 "metadata": {
  "kernelspec": {
   "display_name": "Python 3",
   "language": "python",
   "name": "python3"
  },
  "language_info": {
   "codemirror_mode": {
    "name": "ipython",
    "version": 3
   },
   "file_extension": ".py",
   "mimetype": "text/x-python",
   "name": "python",
   "nbconvert_exporter": "python",
   "pygments_lexer": "ipython3",
   "version": "3.6.8"
  }
 },
 "nbformat": 4,
 "nbformat_minor": 2
}
